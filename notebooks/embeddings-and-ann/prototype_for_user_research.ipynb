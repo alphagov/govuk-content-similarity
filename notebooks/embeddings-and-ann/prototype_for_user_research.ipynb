{
 "cells": [
  {
   "cell_type": "code",
   "execution_count": null,
   "metadata": {
    "ExecuteTime": {
     "end_time": "2020-12-07T17:17:07.998462Z",
     "start_time": "2020-12-07T17:17:07.994965Z"
    }
   },
   "outputs": [],
   "source": [
    "import pandas as pd\n",
    "import numpy as np\n",
    "import os\n",
    "from annoy import AnnoyIndex\n",
    "\n",
    "from IPython.core.display import display, HTML\n",
    "\n",
    "import src.utils.embedding_utils as utils"
   ]
  },
  {
   "cell_type": "code",
   "execution_count": null,
   "metadata": {
    "ExecuteTime": {
     "end_time": "2020-12-07T17:17:08.254774Z",
     "start_time": "2020-12-07T17:17:08.251744Z"
    }
   },
   "outputs": [],
   "source": [
    "os.chdir('../../data/processed')"
   ]
  },
  {
   "cell_type": "code",
   "execution_count": null,
   "metadata": {
    "ExecuteTime": {
     "end_time": "2020-12-07T17:17:08.421744Z",
     "start_time": "2020-12-07T17:17:08.418638Z"
    }
   },
   "outputs": [],
   "source": [
    "# json of settings for the testing\n",
    "settings = {'use_20201014_v2': {'embeddings': 'embeddings_20201014_df_v2.csv',\n",
    "                                'text': 'text_use_20201014_df_v2.csv',\n",
    "                                'embedding_dim': 512,\n",
    "                                'ann_index': 'use_20201014_v2.ann'}\n",
    "            }"
   ]
  },
  {
   "cell_type": "code",
   "execution_count": null,
   "metadata": {
    "ExecuteTime": {
     "end_time": "2020-12-07T17:17:08.589025Z",
     "start_time": "2020-12-07T17:17:08.586092Z"
    }
   },
   "outputs": [],
   "source": [
    "embedding_type = 'use_20201014_v2'"
   ]
  },
  {
   "cell_type": "code",
   "execution_count": null,
   "metadata": {
    "ExecuteTime": {
     "end_time": "2020-12-07T17:17:08.752412Z",
     "start_time": "2020-12-07T17:17:08.745691Z"
    }
   },
   "outputs": [],
   "source": [
    "# build the Annoy Index, f is the length of embedding vector to be used\n",
    "# f is the length of the vectors, aka 'embedding dimension'\n",
    "f = settings[embedding_type]['embedding_dim']\n",
    "\n",
    "# declare an empty index which is going to be based on cosine similarity, aka 'angular'\n",
    "u = AnnoyIndex(f, 'angular')\n",
    "\n",
    "# load a previously trained Annoy Index \n",
    "u.load(settings[embedding_type]['ann_index'])\n",
    "# u.unload()"
   ]
  },
  {
   "cell_type": "code",
   "execution_count": null,
   "metadata": {
    "ExecuteTime": {
     "end_time": "2020-12-07T17:17:17.442629Z",
     "start_time": "2020-12-07T17:17:08.921689Z"
    }
   },
   "outputs": [],
   "source": [
    "text_df = pd.read_csv(settings[embedding_type]['text'])\n",
    "\n",
    "base_path_idx_lookup = dict(zip(text_df['base_path'], range(text_df.shape[0])))\n",
    "\n",
    "idx_base_path_lookup = dict(zip(range(text_df.shape[0]), text_df['base_path']))"
   ]
  },
  {
   "cell_type": "code",
   "execution_count": null,
   "metadata": {
    "ExecuteTime": {
     "end_time": "2020-12-07T17:17:17.447916Z",
     "start_time": "2020-12-07T17:17:17.444697Z"
    }
   },
   "outputs": [],
   "source": [
    "def get_similar_docs_for_base_path(base_path, no_of_results=3):\n",
    "    return utils.get_similar_docs(base_path_idx_lookup, text_df, u, base_path, no_of_results)"
   ]
  },
  {
   "cell_type": "code",
   "execution_count": null,
   "metadata": {},
   "outputs": [],
   "source": []
  },
  {
   "cell_type": "code",
   "execution_count": null,
   "metadata": {},
   "outputs": [],
   "source": []
  },
  {
   "cell_type": "code",
   "execution_count": null,
   "metadata": {},
   "outputs": [],
   "source": []
  },
  {
   "cell_type": "markdown",
   "metadata": {},
   "source": [
    "# get similar URLS"
   ]
  },
  {
   "cell_type": "code",
   "execution_count": null,
   "metadata": {
    "ExecuteTime": {
     "end_time": "2020-12-07T17:17:19.467778Z",
     "start_time": "2020-12-07T17:17:19.459330Z"
    }
   },
   "outputs": [],
   "source": [
    "get_similar_docs_for_base_path(\n",
    "    '/rent-room-in-your-home'\n",
    ")"
   ]
  },
  {
   "cell_type": "code",
   "execution_count": null,
   "metadata": {},
   "outputs": [],
   "source": []
  },
  {
   "cell_type": "code",
   "execution_count": null,
   "metadata": {},
   "outputs": [],
   "source": []
  }
 ],
 "metadata": {
  "kernelspec": {
   "display_name": "",
   "language": "python",
   "name": ""
  },
  "language_info": {
   "codemirror_mode": {
    "name": "ipython",
    "version": 3
   },
   "file_extension": ".py",
   "mimetype": "text/x-python",
   "name": "python",
   "nbconvert_exporter": "python",
   "pygments_lexer": "ipython3",
   "version": "3.8.5"
  },
  "toc": {
   "base_numbering": 1,
   "nav_menu": {},
   "number_sections": true,
   "sideBar": true,
   "skip_h1_title": false,
   "title_cell": "Table of Contents",
   "title_sidebar": "Contents",
   "toc_cell": false,
   "toc_position": {},
   "toc_section_display": true,
   "toc_window_display": false
  }
 },
 "nbformat": 4,
 "nbformat_minor": 4
}
