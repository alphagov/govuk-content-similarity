{
 "cells": [
  {
   "cell_type": "code",
   "execution_count": null,
   "metadata": {},
   "outputs": [],
   "source": [
    "import pickle\n",
    "from src.utils.helper_som import get_minimal_distance_factors\n",
    "from src.utils.helper_som import get_som_dimensions\n",
    "\n",
    "import numpy as np\n",
    "import pandas as pd\n",
    "\n",
    "import matplotlib.pyplot as plt\n",
    "from matplotlib.patches import RegularPolygon\n",
    "from mpl_toolkits.axes_grid1 import make_axes_locatable\n",
    "from matplotlib import cm, colorbar"
   ]
  },
  {
   "cell_type": "code",
   "execution_count": null,
   "metadata": {},
   "outputs": [],
   "source": [
    "# import data, normed document vectors and som\n",
    "df_sample = pd.read_pickle(filepath_or_buffer='data/df_sample.pkl')\n",
    "normed_array_doc_vec = np.load(file='data/doc_vec_norm_sample.npy')\n",
    "with open('data/som.p', 'rb') as infile:\n",
    "    som = pickle.load(infile)\n",
    "\n",
    "# compute parameters\n",
    "len_vector = normed_array_doc_vec.shape[1]\n",
    "x, y = get_som_dimensions(arr=normed_array_doc_vec)\n",
    "x, y = get_minimal_distance_factors(n=5 * np.sqrt(normed_array_doc_vec.shape[0]))\n",
    "\n",
    "# will consider all the sample mapped into a specific neuron as a cluster.\n",
    "# to identify each cluster more easily, will translate the bi-dimensional indices\n",
    "# of the neurons on the SOM into mono-dimensional indices.\n",
    "# each neuron represents a cluster\n",
    "winner_coordinates = np.array([som.winner(x) for x in normed_array_doc_vec]).T\n",
    "# with np.ravel_multi_index, we convert the bi-dimensional coordinates to a mono-dimensional index\n",
    "cluster_index = np.ravel_multi_index(multi_index=winner_coordinates, dims=(x, y))"
   ]
  },
  {
   "cell_type": "code",
   "execution_count": null,
   "metadata": {},
   "outputs": [],
   "source": [
    "xx, yy = som.get_euclidean_coordinates()\n",
    "umatrix = som.distance_map()\n",
    "weights = som.get_weights()"
   ]
  },
  {
   "cell_type": "code",
   "execution_count": null,
   "metadata": {},
   "outputs": [],
   "source": [
    "f = plt.figure(figsize=(10, 10))\n",
    "ax = f.add_subplot(111)\n",
    "ax.set_aspect('equal')\n",
    "for i in range(weights.shape[0]):\n",
    "    for j in range(weights.shape[1]):\n",
    "        wy = yy[(i, j)] * 2 / np.sqrt(3) * 3 / 4\n",
    "        hex = RegularPolygon(xy=(xx[(i, j)], wy),\n",
    "                             numVertices=6,\n",
    "                             radius=.95 / np.sqrt(3),\n",
    "                             facecolor=cm.Blues(umatrix[i, j]),\n",
    "                             alpha=.4,\n",
    "                             edgecolor='gray')\n",
    "        ax.add_patch(hex)\n",
    "plt.show()"
   ]
  },
  {
   "cell_type": "code",
   "execution_count": null,
   "metadata": {},
   "outputs": [],
   "source": [
    "f = plt.figure(figsize=(10, 10))\n",
    "ax = f.add_subplot(111)\n",
    "ax.set_aspect('equal')\n",
    "\n",
    "for cnt, x in enumerate(normed_array_doc_vec):\n",
    "    w = som.winner(x)\n",
    "    wx, wy = som.convert_map_to_euclidean(xy=w)\n",
    "    wy = wy * 2 / np.sqrt(3) * 3 / 4\n",
    "    plt.plot(wx, wy, markerfacecolor='none', markeredgecolor='black', markersize=12, markeredgewidth=2)\n",
    "plt.show()"
   ]
  },
  {
   "cell_type": "code",
   "execution_count": null,
   "metadata": {},
   "outputs": [],
   "source": [
    "f = plt.figure(figsize=(10, 10))\n",
    "ax = f.add_subplot(111)\n",
    "ax.set_aspect('equal')\n",
    "for i in range(weights.shape[0]):\n",
    "    for j in range(weights.shape[1]):\n",
    "        wy = yy[(i, j)] * 2 / np.sqrt(3) * 3 / 4\n",
    "        hex = RegularPolygon(xy=(xx[(i, j)], wy),\n",
    "                             numVertices=6,\n",
    "                             radius=.95 / np.sqrt(3),\n",
    "                             facecolor=cm.Blues(umatrix[i, j]),\n",
    "                             alpha=.4,\n",
    "                             edgecolor='gray')\n",
    "        ax.add_patch(hex)\n",
    "for cnt, x in enumerate(normed_array_doc_vec):\n",
    "    w = som.winner(x)\n",
    "    wx, wy = som.convert_map_to_euclidean(xy=w)\n",
    "    wy = wy * 2 / np.sqrt(3) * 3 / 4\n",
    "    plt.plot(wx, wy, markerfacecolor='none', markeredgecolor='black', markersize=12, markeredgewidth=2)\n",
    "plt.show()"
   ]
  },
  {
   "cell_type": "code",
   "execution_count": null,
   "metadata": {},
   "outputs": [],
   "source": [
    "f = plt.figure(figsize=(10, 10))\n",
    "ax = f.add_subplot(111)\n",
    "ax.set_aspect('equal')\n",
    "for i in range(weights.shape[0]):\n",
    "    for j in range(weights.shape[1]):\n",
    "        wy = yy[(i, j)] * 2 / np.sqrt(3) * 3 / 4\n",
    "        hex = RegularPolygon(xy=(xx[(i, j)], wy),\n",
    "                             numVertices=6,\n",
    "                             radius=.95 / np.sqrt(3),\n",
    "                             facecolor=cm.Blues(umatrix[i, j]),\n",
    "                             alpha=.4,\n",
    "                             edgecolor='gray')\n",
    "        ax.add_patch(hex)\n",
    "for cnt, x in enumerate(normed_array_doc_vec):\n",
    "    w = som.winner(x)\n",
    "    wx, wy = som.convert_map_to_euclidean(xy=w)\n",
    "    wy = wy * 2 / np.sqrt(3) * 3 / 4\n",
    "    plt.plot(wx, wy, markerfacecolor='none', markeredgecolor='black', markersize=12, markeredgewidth=2)\n",
    "\n",
    "xrange = np.arange(weights.shape[0])\n",
    "yrange = np.arange(weights.shape[1])\n",
    "plt.xticks(xrange - .5, xrange)\n",
    "plt.yticks(yrange * 2 / np.sqrt(3) * 3 / 4, yrange)\n",
    "\n",
    "divider = make_axes_locatable(plt.gca())\n",
    "ax_cb = divider.new_horizontal(size=\"5%\", pad=0.05)\n",
    "cbl = colorbar.ColorbarBase(ax=ax_cb, cmap=cm.Blues,\n",
    "                            orientation='vertical', alpha=.4)\n",
    "cbl.ax.get_yaxis().labelpad = 16\n",
    "cbl.ax.set_ylabel('distance from neurons in the neighbourhood', rotation=270, fontsize=16)\n",
    "plt.gcf().add_axes(ax_cb)\n",
    "\n",
    "plt.show()"
   ]
  },
  {
   "cell_type": "code",
   "execution_count": null,
   "metadata": {},
   "outputs": [],
   "source": []
  }
 ],
 "metadata": {
  "kernelspec": {
   "display_name": "",
   "language": "python",
   "name": ""
  },
  "language_info": {
   "codemirror_mode": {
    "name": "ipython",
    "version": 3
   },
   "file_extension": ".py",
   "mimetype": "text/x-python",
   "name": "python",
   "nbconvert_exporter": "python",
   "pygments_lexer": "ipython3",
   "version": "3.7.0"
  }
 },
 "nbformat": 4,
 "nbformat_minor": 4
}
