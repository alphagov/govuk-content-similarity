{
 "cells": [
  {
   "cell_type": "code",
   "execution_count": null,
   "metadata": {},
   "outputs": [],
   "source": [
    "import pickle\n",
    "from src.utils.helper_som import get_minimal_distance_factors\n",
    "\n",
    "import numpy as np\n",
    "import pandas as pd\n",
    "\n",
    "from matplotlib import cm, colorbar\n",
    "from bokeh.models import ColumnDataSource, Plot, LinearAxis, Grid\n",
    "from bokeh.models.glyphs import HexTile\n",
    "from bokeh.io import curdoc, show, output_notebook\n",
    "\n",
    "output_notebook()"
   ]
  },
  {
   "cell_type": "code",
   "execution_count": null,
   "metadata": {},
   "outputs": [],
   "source": [
    "# import data, normed document vectors and som\n",
    "df_sample = pd.read_pickle(filepath_or_buffer='data/df_sample.pkl')\n",
    "normed_array_doc_vec = np.load(file='data/doc_vec_norm_sample.npy')\n",
    "with open('data/som.p', 'rb') as infile:\n",
    "    som = pickle.load(infile)\n",
    "\n",
    "# compute parameters\n",
    "len_vector = normed_array_doc_vec.shape[1]\n",
    "x, y = get_minimal_distance_factors(n=5 * np.sqrt(normed_array_doc_vec.shape[0]))\n",
    "\n",
    "# will consider all the sample mapped into a specific neuron as a cluster.\n",
    "# to identify each cluster more easily, will translate the bi-dimensional indices\n",
    "# of the neurons on the SOM into mono-dimensional indices.\n",
    "# each neuron represents a cluster\n",
    "winner_coordinates = np.array([som.winner(x) for x in normed_array_doc_vec]).T\n",
    "# with np.ravel_multi_index, we convert the bi-dimensional coordinates to a mono-dimensional index\n",
    "cluster_index = np.ravel_multi_index(multi_index=winner_coordinates, dims=(x, y))"
   ]
  },
  {
   "cell_type": "code",
   "execution_count": null,
   "metadata": {},
   "outputs": [],
   "source": [
    "xx, yy = som.get_euclidean_coordinates() # return position of neurons on a euclidean plane that reflects chosen topology in meshgrids xx, yy e.g. (1,4) -> xx[1,4], yy[1,4]\n",
    "umatrix = som.distance_map() # returns distance map of the weights\n",
    "weights = som.get_weights() # returns weights of neural network"
   ]
  },
  {
   "cell_type": "code",
   "execution_count": null,
   "metadata": {},
   "outputs": [],
   "source": [
    "tile_centres_column = []\n",
    "tile_centres_row = []\n",
    "colours = []\n",
    "for i in range(weights.shape[0]):\n",
    "    for j in range(weights.shape[1]):\n",
    "        wy = yy[(i, j)] * 2 / np.sqrt(3) * 3 / 4\n",
    "        tile_centres_column.append(xx[(i, j)])\n",
    "        tile_centres_row.append(wy)\n",
    "        colours.append(cm.Blues(umatrix[i, j]))\n",
    "        \n",
    "weight_x = []\n",
    "weight_y = []\n",
    "for cnt, x in enumerate(normed_array_doc_vec):\n",
    "    w = som.winner(x)\n",
    "    wx, wy = som.convert_map_to_euclidean(xy=w)\n",
    "    wy = wy * 2 / np.sqrt(3) * 3/4\n",
    "    weight_x.append(wx)\n",
    "    weight_y.append(wy)\n",
    "\n",
    "source = ColumnDataSource(dict(q=tile_centres_column, r=tile_centres_row, c=colours))"
   ]
  },
  {
   "cell_type": "markdown",
   "metadata": {},
   "source": [
    "## Attempt 1\n",
    "Using `HexTile()` and `add_glyph()`."
   ]
  },
  {
   "cell_type": "code",
   "execution_count": null,
   "metadata": {},
   "outputs": [],
   "source": [
    "plot = Plot(title=None, plot_width=800, plot_height=800)\n",
    "\n",
    "hex = HexTile(q='q', r='r',\n",
    "              size=.95 / np.sqrt(3),\n",
    "              fill_color='c',\n",
    "              fill_alpha=.4,\n",
    "              line_color='gray')\n",
    "plot.add_glyph(source_or_glyph=source, glyph=hex)\n",
    "\n",
    "xaxis = LinearAxis()\n",
    "plot.add_layout(obj=xaxis, place='below')\n",
    "yaxis = LinearAxis()\n",
    "plot.add_layout(obj=yaxis, place='left')\n",
    "\n",
    "plot.add_layout(obj=Grid(dimension=0, ticker=xaxis.ticker))\n",
    "plot.add_layout(obj=Grid(dimension=1, ticker=yaxis.ticker))\n",
    "curdoc().add_root(plot)\n",
    "show(plot)"
   ]
  },
  {
   "cell_type": "markdown",
   "metadata": {},
   "source": [
    "# Attempt 2"
   ]
  },
  {
   "cell_type": "code",
   "execution_count": null,
   "metadata": {},
   "outputs": [],
   "source": [
    "from bokeh.plotting import figure, output_file, show\n",
    "\n",
    "# match_aspect=True ensures have regular hexagons\n",
    "# https://docs.bokeh.org/en/latest/docs/reference/plotting.html?highlight=figure#bokeh.plotting.figure\n",
    "plot = figure(plot_width=800, plot_height=800, match_aspect=True) \n",
    "plot.hex_tile(q=tile_centres_column, r=tile_centres_row, \n",
    "              size=(.95 / np.sqrt(3)),\n",
    "              color=colours,\n",
    "              fill_alpha=.4,\n",
    "              line_color='black')\n",
    "\n",
    "show(plot)"
   ]
  },
  {
   "cell_type": "markdown",
   "metadata": {},
   "source": [
    "It's like the hexes need to be flipped vertically to match the dots...\n",
    "\n",
    "The hexes are also squished into each other and overlapping one another."
   ]
  },
  {
   "cell_type": "code",
   "execution_count": null,
   "metadata": {},
   "outputs": [],
   "source": [
    "# match_aspect=True ensures have regular hexagons (matches x-axis with y-axis)\n",
    "# https://docs.bokeh.org/en/latest/docs/reference/plotting.html?highlight=figure#bokeh.plotting.figure\n",
    "plot = figure(plot_width=800, plot_height=800,\n",
    "              #x_range=(0, weights.shape[0]), y_range=(0, weights.shape[1]),\n",
    "              match_aspect=True) \n",
    "plot.hex_tile(q=tile_centres_column, r=tile_centres_row, \n",
    "              size=.95 / np.sqrt(3),\n",
    "              color=colours,\n",
    "              fill_alpha=.4,\n",
    "              line_color='black')\n",
    "plot.dot(x=weight_x, y=weight_y,\n",
    "         fill_color='black',\n",
    "         size=12)\n",
    "\n",
    "show(plot)"
   ]
  },
  {
   "cell_type": "markdown",
   "metadata": {},
   "source": [
    "# Attempt within Loops"
   ]
  },
  {
   "cell_type": "code",
   "execution_count": null,
   "metadata": {},
   "outputs": [],
   "source": [
    "plot = figure(plot_width=800, plot_height=800,\n",
    "              #x_range=(0, weights.shape[0]), y_range=(0, weights.shape[1]),\n",
    "              match_aspect=True) \n",
    "for i in range(weights.shape[0]):\n",
    "    for j in range(weights.shape[1]):\n",
    "        wy = yy[(i, j)] * 2 / np.sqrt(3) * 3 / 4\n",
    "        plot.hex_tile(q=xx[(i, j)], r=wy,\n",
    "                      size=.95 / np.sqrt(3),\n",
    "                      color=cm.Blues(umatrix[i, j]),\n",
    "                      fill_alpha=.4,\n",
    "                      line_color='black')\n",
    "show(plot)"
   ]
  },
  {
   "cell_type": "code",
   "execution_count": null,
   "metadata": {},
   "outputs": [],
   "source": []
  }
 ],
 "metadata": {
  "kernelspec": {
   "display_name": "",
   "language": "python",
   "name": ""
  },
  "language_info": {
   "codemirror_mode": {
    "name": "ipython",
    "version": 3
   },
   "file_extension": ".py",
   "mimetype": "text/x-python",
   "name": "python",
   "nbconvert_exporter": "python",
   "pygments_lexer": "ipython3",
   "version": "3.7.0"
  }
 },
 "nbformat": 4,
 "nbformat_minor": 4
}
