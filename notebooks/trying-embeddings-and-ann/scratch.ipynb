{
 "cells": [
  {
   "cell_type": "code",
   "execution_count": null,
   "metadata": {
    "ExecuteTime": {
     "end_time": "2020-10-14T14:44:35.697176Z",
     "start_time": "2020-10-14T14:44:35.693804Z"
    }
   },
   "outputs": [],
   "source": [
    "import pandas as pd\n",
    "\n",
    "import os"
   ]
  },
  {
   "cell_type": "markdown",
   "metadata": {},
   "source": [
    "## Check what document types there are"
   ]
  },
  {
   "cell_type": "code",
   "execution_count": null,
   "metadata": {
    "ExecuteTime": {
     "end_time": "2020-10-14T14:47:11.659654Z",
     "start_time": "2020-10-14T14:44:46.855856Z"
    }
   },
   "outputs": [],
   "source": [
    "# import data from the content store\n",
    "content_store_file_path = os.path.join('../../data/raw/preprocessed_content_store_210920.csv')\n",
    "content_store_df = pd.read_csv(content_store_file_path, compression='gzip', delimiter=\"\\t\", low_memory=False)\n"
   ]
  },
  {
   "cell_type": "code",
   "execution_count": null,
   "metadata": {
    "ExecuteTime": {
     "end_time": "2020-10-14T14:49:45.068304Z",
     "start_time": "2020-10-14T14:49:45.062828Z"
    }
   },
   "outputs": [],
   "source": [
    "content_store_df.columns"
   ]
  },
  {
   "cell_type": "code",
   "execution_count": null,
   "metadata": {
    "ExecuteTime": {
     "end_time": "2020-10-14T14:52:44.800820Z",
     "start_time": "2020-10-14T14:52:44.796262Z"
    }
   },
   "outputs": [],
   "source": [
    "pd.options.display.max_rows"
   ]
  },
  {
   "cell_type": "code",
   "execution_count": null,
   "metadata": {
    "ExecuteTime": {
     "end_time": "2020-10-14T14:52:54.305150Z",
     "start_time": "2020-10-14T14:52:54.302256Z"
    }
   },
   "outputs": [],
   "source": [
    "pd.options.display.max_rows = 140"
   ]
  },
  {
   "cell_type": "code",
   "execution_count": null,
   "metadata": {
    "ExecuteTime": {
     "end_time": "2020-10-14T14:52:54.991193Z",
     "start_time": "2020-10-14T14:52:54.886797Z"
    }
   },
   "outputs": [],
   "source": [
    "content_store_df[['document_type', 'base_path']].groupby(\n",
    "    'document_type').count().sort_values('base_path', ascending=False)"
   ]
  },
  {
   "cell_type": "markdown",
   "metadata": {},
   "source": [
    "## What doc types fail at getting embeddings?"
   ]
  },
  {
   "cell_type": "code",
   "execution_count": null,
   "metadata": {
    "ExecuteTime": {
     "end_time": "2020-10-14T15:20:07.692927Z",
     "start_time": "2020-10-14T15:19:59.301974Z"
    }
   },
   "outputs": [],
   "source": [
    "import tensorflow_hub as hub\n",
    "import tensorflow as tf\n",
    "import numpy as np\n",
    "from ast import literal_eval\n",
    "\n",
    "model = hub.load('../../data/external/universal-sentence-encoder_4')"
   ]
  },
  {
   "cell_type": "code",
   "execution_count": null,
   "metadata": {
    "ExecuteTime": {
     "end_time": "2020-10-14T15:20:28.412645Z",
     "start_time": "2020-10-14T15:20:28.408903Z"
    }
   },
   "outputs": [],
   "source": [
    "def embed(input):\n",
    "    return model(input)"
   ]
  },
  {
   "cell_type": "code",
   "execution_count": null,
   "metadata": {
    "ExecuteTime": {
     "end_time": "2020-10-14T15:20:30.862189Z",
     "start_time": "2020-10-14T15:20:30.536010Z"
    }
   },
   "outputs": [],
   "source": [
    "# filter dates\n",
    "date_mask = content_store_df['first_published_at'].str[:4].fillna('2000').astype(int) > 2000\n",
    "\n",
    "# filter live documents\n",
    "live_mask = content_store_df['withdrawn'] == False"
   ]
  },
  {
   "cell_type": "code",
   "execution_count": null,
   "metadata": {
    "ExecuteTime": {
     "end_time": "2020-10-14T15:23:57.449643Z",
     "start_time": "2020-10-14T15:20:59.235905Z"
    }
   },
   "outputs": [],
   "source": [
    "# combine masks\n",
    "content_mask = live_mask & date_mask \n",
    "\n",
    "cols_keep = ['document_type', 'content_id', 'first_published_at', 'details']\n",
    "subset_content_df = content_store_df.loc[content_mask, cols_keep].copy()\n",
    "subset_content_df['details'] = subset_content_df['details'].map(literal_eval)"
   ]
  },
  {
   "cell_type": "code",
   "execution_count": null,
   "metadata": {
    "ExecuteTime": {
     "end_time": "2020-10-14T15:23:57.535826Z",
     "start_time": "2020-10-14T15:23:57.460358Z"
    }
   },
   "outputs": [],
   "source": [
    "def cos_sim(a, b):\n",
    "    \"\"\"Takes 2 vectors a, b and returns the cosine similarity\n",
    "    \"\"\"\n",
    "    dot_product = np.dot(a, b)\n",
    "    norm_a = np.linalg.norm(a)\n",
    "    norm_b = np.linalg.norm(b)\n",
    "    return dot_product / (norm_a * norm_b)\n",
    "\n",
    "\n",
    "def clean_xml(original_text):\n",
    "    ''' strips out xml tagging from string'''\n",
    "    extracted_sentence = []\n",
    "    start_idx = 1\n",
    "    end_idx = 1\n",
    "    while (start_idx > 0) and (end_idx > 0):\n",
    "        end_idx = original_text.find('<')\n",
    "        if end_idx >= 0:\n",
    "            extracted_sentence.append(original_text[:end_idx])\n",
    "            start_idx = original_text.find('>')\n",
    "            if (start_idx >= 0):\n",
    "                original_text = original_text[start_idx + 1:]\n",
    "    if len(original_text) > 0:\n",
    "        extracted_sentence.append(original_text)\n",
    "    return str(''.join(extracted_sentence))\n",
    "\n",
    "\n",
    "# sentences may be more performant\n",
    "def extract_paragraphs(original_text):\n",
    "    ''' takes raw string text from gov uk and returns extracted paragraphs\n",
    "    still contains xml tags'''\n",
    "    extracted_paragraphs = []\n",
    "    start_idx = 1\n",
    "    end_idx = 1\n",
    "    while (start_idx >= 0) and (end_idx >= 0):\n",
    "        start_idx = original_text.find('<p>')\n",
    "        end_idx = original_text.find('</p>')\n",
    "        if (start_idx >= 0) and (end_idx >= 0):\n",
    "            if (end_idx - start_idx) > 3:\n",
    "                cleaned_text_segment = clean_xml(original_text[start_idx + 3:end_idx])\n",
    "                extracted_paragraphs.append(cleaned_text_segment)\n",
    "            original_text = original_text[end_idx + 3:]\n",
    "    return extracted_paragraphs\n",
    "\n",
    "\n",
    "def document_embedding(paragraphs):\n",
    "    \"\"\"\n",
    "    average embeddings across sentences\n",
    "    \"\"\"\n",
    "    embedding = embed(paragraphs)\n",
    "    average_embedding = tf.math.reduce_mean(embedding, axis=0).numpy()\n",
    "    return average_embedding"
   ]
  },
  {
   "cell_type": "code",
   "execution_count": null,
   "metadata": {
    "ExecuteTime": {
     "end_time": "2020-10-14T15:25:37.451216Z",
     "start_time": "2020-10-14T15:25:37.336162Z"
    }
   },
   "outputs": [],
   "source": [
    "# initialise an empty array for embeddings\n",
    "collected_doc_embeddings = np.zeros((subset_content_df.shape[0], 512))\n",
    "\n",
    "# fill array with embeddings for all docs\n",
    "for i in range(subset_content_df.shape[0]):\n",
    "    try:\n",
    "        doc = subset_content_df.iloc[i]['details']['body']\n",
    "    except KeyError:\n",
    "        continue\n",
    "    try:\n",
    "        extracted_paragraphs = extract_paragraphs(doc)\n",
    "    except AttributeError:\n",
    "        print(subset_content_df.iloc[i]['document_type'])\n",
    "    if len(extracted_paragraphs) > 0:\n",
    "        doc_embedding = document_embedding(extracted_paragraphs)\n",
    "        collected_doc_embeddings[i, :] = doc_embedding\n",
    "    if i % 1000 == 0:\n",
    "        progress = i / subset_content_df.shape[0]\n",
    "        print('%s' % float('%.2g' % progress))\n"
   ]
  },
  {
   "cell_type": "code",
   "execution_count": null,
   "metadata": {
    "ExecuteTime": {
     "end_time": "2020-10-14T15:39:04.936275Z",
     "start_time": "2020-10-14T15:39:04.777120Z"
    }
   },
   "outputs": [],
   "source": [
    "doctype_inverse_mask = subset_content_df.document_type.isin([\n",
    "    'aaib_report',\n",
    "     'answer',\n",
    "     'asylum_support_decision',\n",
    "     'business_finance_support_scheme',\n",
    "     'cma_case',\n",
    "     'countryside_stewardship_grant',\n",
    "     'drug_safety_update',\n",
    "     'employment_appeal_tribunal_decision',\n",
    "    'employment_tribunal_decision',\n",
    "     'esi_fund',\n",
    "     'export_health_certificate',\n",
    "     'help_page',\n",
    "     'html_publication',\n",
    "     'international_development_fund',\n",
    "     'maib_report',\n",
    "     'manual',\n",
    "     'manual_section',\n",
    "     'medical_safety_alert',\n",
    "     'ministerial_role',\n",
    "     'person',\n",
    "     'raib_report',\n",
    "    'research_for_development_output'\n",
    "     'residential_property_tribunal_decision',\n",
    "     'service_standard_report',\n",
    "     'simple_smart_answer',\n",
    "     'statutory_instrument',\n",
    "     'tax_tribunal_decision',\n",
    "     'utaac_decision'\n",
    "    ])\n",
    "subset_content_df_v2 = subset_content_df.loc[~doctype_inverse_mask, cols_keep].copy()"
   ]
  },
  {
   "cell_type": "code",
   "execution_count": null,
   "metadata": {
    "ExecuteTime": {
     "end_time": "2020-10-14T15:42:33.624563Z",
     "start_time": "2020-10-14T15:41:09.577394Z"
    },
    "code_folding": []
   },
   "outputs": [],
   "source": [
    "# initialise an empty array for embeddings\n",
    "collected_doc_embeddings = np.zeros((subset_content_df_v2.shape[0], 512))\n",
    "\n",
    "bad_doc_types = set()\n",
    "# fill array with embeddings for all docs\n",
    "for i in range(subset_content_df_v2.shape[0]):\n",
    "    try:\n",
    "        doc = subset_content_df_v2.iloc[i]['details']['body']\n",
    "    except KeyError:\n",
    "        continue\n",
    "    try:\n",
    "        extracted_paragraphs = extract_paragraphs(doc)\n",
    "    except AttributeError:\n",
    "        bad_doc_types.add(subset_content_df_v2.iloc[i]['document_type'])\n",
    "\n",
    "#     if len(extracted_paragraphs) > 0:\n",
    "#         doc_embedding = document_embedding(extracted_paragraphs)\n",
    "#         collected_doc_embeddings[i, :] = doc_embedding\n",
    "    if i % 1000 == 0:\n",
    "        progress = i / subset_content_df_v2.shape[0]\n",
    "        print('%s' % float('%.2g' % progress))\n"
   ]
  },
  {
   "cell_type": "code",
   "execution_count": null,
   "metadata": {
    "ExecuteTime": {
     "end_time": "2020-10-14T15:45:34.861145Z",
     "start_time": "2020-10-14T15:45:34.855513Z"
    }
   },
   "outputs": [],
   "source": [
    "bad_doc_types"
   ]
  },
  {
   "cell_type": "code",
   "execution_count": null,
   "metadata": {},
   "outputs": [],
   "source": []
  }
 ],
 "metadata": {
  "kernelspec": {
   "display_name": "",
   "language": "python",
   "name": ""
  },
  "language_info": {
   "codemirror_mode": {
    "name": "ipython",
    "version": 3
   },
   "file_extension": ".py",
   "mimetype": "text/x-python",
   "name": "python",
   "nbconvert_exporter": "python",
   "pygments_lexer": "ipython3",
   "version": "3.8.5"
  },
  "toc": {
   "base_numbering": 1,
   "nav_menu": {},
   "number_sections": true,
   "sideBar": true,
   "skip_h1_title": false,
   "title_cell": "Table of Contents",
   "title_sidebar": "Contents",
   "toc_cell": false,
   "toc_position": {},
   "toc_section_display": true,
   "toc_window_display": false
  }
 },
 "nbformat": 4,
 "nbformat_minor": 4
}
