{
 "cells": [
  {
   "cell_type": "code",
   "execution_count": null,
   "metadata": {
    "ExecuteTime": {
     "end_time": "2020-10-19T09:39:41.534464Z",
     "start_time": "2020-10-19T09:39:41.530940Z"
    }
   },
   "outputs": [],
   "source": [
    "import pandas as pd\n",
    "import numpy as np\n",
    "import os\n",
    "from annoy import AnnoyIndex\n",
    "\n",
    "from IPython.core.display import display, HTML\n"
   ]
  },
  {
   "cell_type": "code",
   "execution_count": null,
   "metadata": {
    "ExecuteTime": {
     "end_time": "2020-10-19T09:38:34.055433Z",
     "start_time": "2020-10-19T09:38:34.052223Z"
    }
   },
   "outputs": [],
   "source": [
    "os.chdir('../../data/processed')"
   ]
  },
  {
   "cell_type": "code",
   "execution_count": null,
   "metadata": {
    "ExecuteTime": {
     "end_time": "2020-10-20T15:54:05.375969Z",
     "start_time": "2020-10-20T15:54:05.366404Z"
    }
   },
   "outputs": [],
   "source": [
    "# json of settings for the testing\n",
    "settings = {'use_20201014_v2': {'embeddings': 'embeddings_20201014_df_v2.csv',\n",
    "                         'text': 'text_use_20201014_df_v2.csv',\n",
    "                         'embedding_dim': 512,\n",
    "                         'ann_index': 'use_20201014_v2.ann'}\n",
    "            }"
   ]
  },
  {
   "cell_type": "code",
   "execution_count": null,
   "metadata": {
    "ExecuteTime": {
     "end_time": "2020-10-20T15:54:09.107750Z",
     "start_time": "2020-10-20T15:54:09.102062Z"
    }
   },
   "outputs": [],
   "source": [
    "embedding_type = 'use_20201014_v2'"
   ]
  },
  {
   "cell_type": "code",
   "execution_count": null,
   "metadata": {
    "ExecuteTime": {
     "end_time": "2020-10-20T15:54:09.574671Z",
     "start_time": "2020-10-20T15:54:09.561596Z"
    }
   },
   "outputs": [],
   "source": [
    "# build the Annoy Index, f is the length of embedding vector to be used\n",
    "# f is the length of the vectors, aka 'embedding dimension'\n",
    "f = settings[embedding_type]['embedding_dim']\n",
    "\n",
    "# declare an empty index which is going to be based on cosine similarity, aka 'angular'\n",
    "u = AnnoyIndex(f, 'angular')\n",
    "\n",
    "# load a previously trained Annoy Index \n",
    "u.load(settings[embedding_type]['ann_index'])\n",
    "# u.unload()"
   ]
  },
  {
   "cell_type": "code",
   "execution_count": null,
   "metadata": {
    "ExecuteTime": {
     "end_time": "2020-10-20T15:54:09.939214Z",
     "start_time": "2020-10-20T15:54:09.933480Z"
    }
   },
   "outputs": [],
   "source": [
    "def get_cosine_from_similarity(similarity, dp=4):\n",
    "    '''\n",
    "    converts the similarity distance metric into a cosine angle\n",
    "    '''\n",
    "    cosine_angle = 1 - (similarity**2) / 2\n",
    "    return cosine_angle"
   ]
  },
  {
   "cell_type": "code",
   "execution_count": null,
   "metadata": {
    "ExecuteTime": {
     "end_time": "2020-10-20T15:54:24.805197Z",
     "start_time": "2020-10-20T15:54:10.340392Z"
    }
   },
   "outputs": [],
   "source": [
    "text_df = pd.read_csv(settings[embedding_type]['text'])\n",
    "\n",
    "base_path_idx_lookup = dict(zip(text_df['base_path'], range(text_df.shape[0])))\n",
    "\n",
    "idx_base_path_lookup = dict(zip(range(text_df.shape[0]), text_df['base_path']))"
   ]
  },
  {
   "cell_type": "code",
   "execution_count": null,
   "metadata": {
    "ExecuteTime": {
     "end_time": "2020-10-20T15:59:01.496102Z",
     "start_time": "2020-10-20T15:59:01.490078Z"
    }
   },
   "outputs": [],
   "source": [
    "def get_similar_docs(base_path, verbose=True):\n",
    "    try:\n",
    "        source_textdf_idx = base_path_idx_lookup[base_path]\n",
    "    except KeyError:\n",
    "        return f'sorry, base_path {base_path} not found in our lookup'\n",
    "    source_text_data = text_df.iloc[source_textdf_idx]\n",
    "    if source_text_data['doc_text'] == np.nan:\n",
    "        return f'sorry, there\\'s no text in the content item {base_path}'\n",
    "    \n",
    "    results = np.array(u.get_nns_by_item(source_textdf_idx, 4, include_distances=True))\n",
    "    print('query doc: ')\n",
    "#     display(HTML(f\"\"\"<a href=\"https://www.gov.uk{base_path}\" target=\"_blank\">{source_text_data['title']}</a>\"\"\"))\n",
    "    print(source_text_data['title'])\n",
    "    print(f\"https://www.gov.uk{source_text_data['base_path']}\")\n",
    "    print('first_published_at: ' + source_text_data['first_published_at'][:10])\n",
    "    \n",
    "    print('\\n similar content: \\n')\n",
    "    \n",
    "    for i in range (1,4):\n",
    "        cosine_angle = get_cosine_from_similarity(results[1, i])\n",
    "        text_data = text_df.iloc[int(results[0, i])]\n",
    "        \n",
    "#         display(HTML(f\"\"\"<a href=\"https://www.gov.uk{text_data['base_path']}\" target=\"_blank\">{text_data['title']}</a>\"\"\"))\n",
    "        print(text_data['title'])\n",
    "        print(f\"https://www.gov.uk{text_data['base_path']}\")\n",
    "        print('first_published_at: ' + text_data['first_published_at'][:10])\n",
    "        print('similarity score: ' + '%s' % float('%.2g' % cosine_angle))\n",
    "        print(\"----\")"
   ]
  },
  {
   "cell_type": "code",
   "execution_count": null,
   "metadata": {},
   "outputs": [],
   "source": []
  },
  {
   "cell_type": "code",
   "execution_count": null,
   "metadata": {},
   "outputs": [],
   "source": []
  },
  {
   "cell_type": "code",
   "execution_count": null,
   "metadata": {},
   "outputs": [],
   "source": []
  },
  {
   "cell_type": "markdown",
   "metadata": {},
   "source": [
    "# get similar URLS"
   ]
  },
  {
   "cell_type": "code",
   "execution_count": null,
   "metadata": {
    "ExecuteTime": {
     "end_time": "2020-10-20T15:59:17.272916Z",
     "start_time": "2020-10-20T15:59:17.197396Z"
    }
   },
   "outputs": [],
   "source": [
    "get_similar_docs(\n",
    "    '/rent-room-in-your-home'\n",
    ")"
   ]
  },
  {
   "cell_type": "code",
   "execution_count": null,
   "metadata": {},
   "outputs": [],
   "source": []
  },
  {
   "cell_type": "code",
   "execution_count": null,
   "metadata": {},
   "outputs": [],
   "source": []
  }
 ],
 "metadata": {
  "kernelspec": {
   "display_name": "",
   "language": "python",
   "name": ""
  },
  "language_info": {
   "codemirror_mode": {
    "name": "ipython",
    "version": 3
   },
   "file_extension": ".py",
   "mimetype": "text/x-python",
   "name": "python",
   "nbconvert_exporter": "python",
   "pygments_lexer": "ipython3",
   "version": "3.8.5"
  },
  "toc": {
   "base_numbering": 1,
   "nav_menu": {},
   "number_sections": true,
   "sideBar": true,
   "skip_h1_title": false,
   "title_cell": "Table of Contents",
   "title_sidebar": "Contents",
   "toc_cell": false,
   "toc_position": {},
   "toc_section_display": true,
   "toc_window_display": false
  }
 },
 "nbformat": 4,
 "nbformat_minor": 4
}
