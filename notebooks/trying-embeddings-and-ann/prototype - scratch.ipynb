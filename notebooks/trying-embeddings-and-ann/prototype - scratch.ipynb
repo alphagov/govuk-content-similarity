{
 "cells": [
  {
   "cell_type": "code",
   "execution_count": null,
   "metadata": {
    "ExecuteTime": {
     "end_time": "2020-10-16T10:49:56.136707Z",
     "start_time": "2020-10-16T10:49:55.286921Z"
    }
   },
   "outputs": [],
   "source": [
    "import pandas as pd\n",
    "import numpy as np\n",
    "import os\n",
    "from annoy import AnnoyIndex"
   ]
  },
  {
   "cell_type": "code",
   "execution_count": null,
   "metadata": {
    "ExecuteTime": {
     "end_time": "2020-10-16T10:50:33.951368Z",
     "start_time": "2020-10-16T10:50:33.948276Z"
    }
   },
   "outputs": [],
   "source": [
    "os.chdir('../../data/processed')"
   ]
  },
  {
   "cell_type": "code",
   "execution_count": null,
   "metadata": {
    "ExecuteTime": {
     "end_time": "2020-10-16T10:50:34.581259Z",
     "start_time": "2020-10-16T10:50:34.576756Z"
    }
   },
   "outputs": [],
   "source": [
    "# json of settings for the testing\n",
    "settings = {'dilbert': {'embeddings': 'embeddings_distilbert_base_df.csv',\n",
    "                        'text': 'text_distilbert_base_df.csv',\n",
    "                        'embedding_dim': 768,\n",
    "                        'ann_index': 'sbert.ann'},\n",
    "            'use_large': {'embeddings': 'embeddings_use_large_df.csv',\n",
    "                          'text': 'text_use_large_df.csv',\n",
    "                          'embedding_dim': 512,\n",
    "                          'ann_index': 'use.ann'},\n",
    "            'use_2000': {'embeddings': 'embeddings_use_large_2000_df.csv',\n",
    "                         'text': 'text_use_large_2000_df.csv',\n",
    "                         'embedding_dim': 512,\n",
    "                         'ann_index': 'use_2000.ann'},\n",
    "            'use_20201014': {'embeddings': 'embeddings_20201014_df.csv',\n",
    "                         'text': 'text_use_20201014_df.csv',\n",
    "                         'embedding_dim': 512,\n",
    "                         'ann_index': 'use_20201014.ann'}\n",
    "            }"
   ]
  },
  {
   "cell_type": "code",
   "execution_count": null,
   "metadata": {
    "ExecuteTime": {
     "end_time": "2020-10-16T10:50:34.906270Z",
     "start_time": "2020-10-16T10:50:34.903581Z"
    }
   },
   "outputs": [],
   "source": [
    "embedding_type = 'use_20201014'\n"
   ]
  },
  {
   "cell_type": "code",
   "execution_count": null,
   "metadata": {
    "ExecuteTime": {
     "end_time": "2020-10-16T10:50:35.533426Z",
     "start_time": "2020-10-16T10:50:35.521863Z"
    }
   },
   "outputs": [],
   "source": [
    "# build the Annoy Index, f is the length of embedding vector to be used\n",
    "# f is the length of the vectors, aka 'embedding dimension'\n",
    "f = settings[embedding_type]['embedding_dim']\n",
    "\n",
    "# declare an empty index which is going to be based on cosine similarity, aka 'angular'\n",
    "u = AnnoyIndex(f, 'angular')\n",
    "\n",
    "# load a previously trained Annoy Index \n",
    "u.load(settings[embedding_type]['ann_index'])\n",
    "# u.unload()\n"
   ]
  },
  {
   "cell_type": "code",
   "execution_count": null,
   "metadata": {
    "ExecuteTime": {
     "end_time": "2020-10-16T15:09:04.325043Z",
     "start_time": "2020-10-16T15:09:04.319794Z"
    }
   },
   "outputs": [],
   "source": [
    "def get_cosine_from_similarity(similarity, dp=4):\n",
    "    '''\n",
    "    converts the similarity distance metric into a cosine angle\n",
    "    '''\n",
    "    cosine_angle = 1 - (similarity**2) / 2\n",
    "    return cosine_angle"
   ]
  },
  {
   "cell_type": "code",
   "execution_count": null,
   "metadata": {
    "ExecuteTime": {
     "end_time": "2020-10-16T13:24:12.008074Z",
     "start_time": "2020-10-16T13:24:06.579613Z"
    }
   },
   "outputs": [],
   "source": [
    "text_df = pd.read_csv(settings[embedding_type]['text'])"
   ]
  },
  {
   "cell_type": "code",
   "execution_count": null,
   "metadata": {
    "ExecuteTime": {
     "end_time": "2020-10-16T13:24:14.269244Z",
     "start_time": "2020-10-16T13:24:14.245976Z"
    }
   },
   "outputs": [],
   "source": [
    "text_df.head()"
   ]
  },
  {
   "cell_type": "code",
   "execution_count": null,
   "metadata": {
    "ExecuteTime": {
     "end_time": "2020-10-16T14:28:08.778641Z",
     "start_time": "2020-10-16T14:28:08.346744Z"
    }
   },
   "outputs": [],
   "source": [
    "base_path_idx_lookup = dict(zip(text_df['base_path'], range(text_df.shape[0])))\n",
    "\n",
    "idx_base_path_lookup = dict(zip(range(text_df.shape[0]), text_df['base_path']))"
   ]
  },
  {
   "cell_type": "code",
   "execution_count": null,
   "metadata": {
    "ExecuteTime": {
     "end_time": "2020-10-16T13:52:28.059609Z",
     "start_time": "2020-10-16T13:52:28.055624Z"
    }
   },
   "outputs": [],
   "source": [
    "len(base_path_idx_lookup.keys())"
   ]
  },
  {
   "cell_type": "code",
   "execution_count": null,
   "metadata": {
    "ExecuteTime": {
     "end_time": "2020-10-16T15:50:56.383805Z",
     "start_time": "2020-10-16T15:50:56.332620Z"
    }
   },
   "outputs": [],
   "source": [
    "def get_similar_docs(base_path, verbose=True):\n",
    "    try:\n",
    "        source_textdf_idx = base_path_idx_lookup[base_path]\n",
    "    except KeyError:\n",
    "        return f'sorry, base_path {base_path} not found in our lookup'\n",
    "    source_text_data = text_df.iloc[source_textdf_idx]\n",
    "    if source_text_data['doc_text'] == np.nan:\n",
    "        return f'sorry, there\\'s no text in the content item {base_path}'\n",
    "    \n",
    "    results = np.array(u.get_nns_by_item(source_textdf_idx, 3, include_distances=True))\n",
    "    print('query doc: ' + source_text_data['content_id'])\n",
    "    print('first_published_at: ' + source_text_data['first_published_at'][:10])\n",
    "    \n",
    "    for i in range (1,3):\n",
    "        cosine_angle = get_cosine_from_similarity(results[1, i])\n",
    "        text_data = text_df.iloc[int(results[0, i])]\n",
    "       \n",
    "        print(\"----\")\n",
    "        print('best match: ')\n",
    "        \n",
    "        display(HTML(f\"\"\"<a href=\"https://www.gov.uk{text_data['base_path']}\" target=\"_blank\">text</a>\"\"\"))\n",
    "        print('www.gov.uk' + text_data['base_path'])\n",
    "        print('first_published_at: ' + text_data['first_published_at'][:10])\n",
    "        print('cosine angle: ' + '%s' % float('%.2g' % cosine_angle))\n",
    "#         print(\"----\")\n",
    "#         print(text_data['doc_text'][:max_length_string])"
   ]
  },
  {
   "cell_type": "code",
   "execution_count": null,
   "metadata": {
    "ExecuteTime": {
     "end_time": "2020-10-16T15:07:23.286737Z",
     "start_time": "2020-10-16T15:07:23.281884Z"
    }
   },
   "outputs": [],
   "source": [
    "text_df.iloc[\n",
    "    base_path_idx_lookup[\n",
    "        '/government/publications/covid-19-and-renting-guidance-for-landlords-tenants-and-local-authorities']\n",
    "]['doc_text'] == np.nan"
   ]
  },
  {
   "cell_type": "code",
   "execution_count": null,
   "metadata": {
    "ExecuteTime": {
     "end_time": "2020-10-16T15:27:09.580619Z",
     "start_time": "2020-10-16T15:27:09.568870Z"
    }
   },
   "outputs": [],
   "source": [
    "from IPython.core.display import display, HTML\n",
    "display(HTML(\"\"\"<a href=\"https://google.at\">text</a>\"\"\"))"
   ]
  },
  {
   "cell_type": "code",
   "execution_count": null,
   "metadata": {
    "ExecuteTime": {
     "end_time": "2020-10-16T15:50:58.433559Z",
     "start_time": "2020-10-16T15:50:58.359806Z"
    }
   },
   "outputs": [],
   "source": [
    "get_similar_docs(\n",
    "    '/government/publications/covid-19-and-renting-guidance-for-landlords-tenants-and-local-authorities'\n",
    ")"
   ]
  },
  {
   "cell_type": "code",
   "execution_count": null,
   "metadata": {
    "ExecuteTime": {
     "end_time": "2020-10-16T15:10:34.781207Z",
     "start_time": "2020-10-16T15:10:34.770165Z"
    }
   },
   "outputs": [],
   "source": [
    "text_df.iloc[275735]"
   ]
  },
  {
   "cell_type": "code",
   "execution_count": null,
   "metadata": {
    "ExecuteTime": {
     "end_time": "2020-10-16T14:59:57.214975Z",
     "start_time": "2020-10-16T14:59:57.211090Z"
    }
   },
   "outputs": [],
   "source": [
    "results = np.array(u.get_nns_by_item(\n",
    "    base_path_idx_lookup['/government/publications/covid-19-and-renting-guidance-for-landlords-tenants-and-local-authorities'],\n",
    "    3, include_distances=True))\n"
   ]
  },
  {
   "cell_type": "code",
   "execution_count": null,
   "metadata": {
    "ExecuteTime": {
     "end_time": "2020-10-16T15:00:07.837846Z",
     "start_time": "2020-10-16T15:00:07.830986Z"
    }
   },
   "outputs": [],
   "source": [
    "results"
   ]
  },
  {
   "cell_type": "code",
   "execution_count": null,
   "metadata": {
    "ExecuteTime": {
     "end_time": "2020-10-16T15:01:54.634198Z",
     "start_time": "2020-10-16T15:01:54.629826Z"
    }
   },
   "outputs": [],
   "source": [
    "results[0,1]"
   ]
  },
  {
   "cell_type": "code",
   "execution_count": null,
   "metadata": {},
   "outputs": [],
   "source": []
  },
  {
   "cell_type": "code",
   "execution_count": null,
   "metadata": {
    "ExecuteTime": {
     "end_time": "2020-10-16T14:40:47.738717Z",
     "start_time": "2020-10-16T14:40:47.733544Z"
    }
   },
   "outputs": [],
   "source": [
    "np.array(u.get_nns_by_item(base_path_idx_lookup['/coronavirus'], 3, include_distances=True))[0, 0]"
   ]
  },
  {
   "cell_type": "code",
   "execution_count": null,
   "metadata": {
    "ExecuteTime": {
     "end_time": "2020-10-16T14:58:54.597796Z",
     "start_time": "2020-10-16T14:58:54.590815Z"
    }
   },
   "outputs": [],
   "source": [
    "np.isnan(text_df.iloc[1060]['doc_text'])"
   ]
  },
  {
   "cell_type": "code",
   "execution_count": null,
   "metadata": {
    "ExecuteTime": {
     "end_time": "2020-10-16T14:29:31.365660Z",
     "start_time": "2020-10-16T14:29:31.361261Z"
    }
   },
   "outputs": [],
   "source": [
    "base_path_idx_lookup['/coronavirus']"
   ]
  },
  {
   "cell_type": "code",
   "execution_count": null,
   "metadata": {
    "ExecuteTime": {
     "end_time": "2020-10-16T14:39:55.077663Z",
     "start_time": "2020-10-16T14:39:55.058504Z"
    }
   },
   "outputs": [],
   "source": [
    "text_df.iloc[215404]"
   ]
  },
  {
   "cell_type": "code",
   "execution_count": null,
   "metadata": {
    "ExecuteTime": {
     "end_time": "2020-10-16T14:29:04.052780Z",
     "start_time": "2020-10-16T14:29:04.044252Z"
    }
   },
   "outputs": [],
   "source": [
    "text_df['base_path'][\n",
    "    np.array(u.get_nns_by_item(base_path_idx_lookup['/government/statistics/announcements/producing-a-historical-series-for-cpih'],\n",
    "                               3, include_distances=True))[0, 0]]\n"
   ]
  },
  {
   "cell_type": "code",
   "execution_count": null,
   "metadata": {},
   "outputs": [],
   "source": [
    "\n",
    "def print_cosine_and_texts(text_idx, max_length_string=1000, verbose=True):\n",
    "    '''\n",
    "    function for printing out details of query document and the best match\n",
    "    '''\n",
    "    results = np.array(u.get_nns_by_item(text_idx, 2, include_distances=True))\n",
    "    cosine_angle = get_cosine_from_similarity(results[1, 1])\n",
    "    if verbose:\n",
    "        print('cosine angle: ' + '%s' % float('%.2g' % cosine_angle))\n",
    "        print(\"----\")\n",
    "        print('Index: ' + str(text_idx))\n",
    "        print(\"----\")\n",
    "        print('query doc: ' + text_df['content_id'][results[0, 0]])\n",
    "        print('date: ' + text_df['first_published_at'][results[0, 0]][:10])\n",
    "        print(\"----\")\n",
    "        print(text_df['doc_text'][results[0, 0]][:max_length_string])\n",
    "        print(\"----\")\n",
    "        print('best match: ' + text_df['content_id'][results[0, 1]])\n",
    "        print('date: ' + text_df['first_published_at'][results[0, 1]][:10])\n",
    "        print(\"----\")\n",
    "        print(text_df['doc_text'][results[0, 1]][:max_length_string])\n",
    "    else:\n",
    "        return(cosine_angle)\n",
    "\n",
    "\n",
    "# pick a random document, and search the index, printing to screen\n",
    "print_cosine_and_texts(np.random.randint(0, 100000))\n",
    "# this is really how you can compare the ability of different embeddings\n",
    "print_cosine_and_texts(3779, max_length_string=10000)\n",
    "\n",
    "# collect a list of potentially interesting documents, inspecting results\n",
    "list_interesting_indices = []\n",
    "n = 1000\n",
    "while n > 0:\n",
    "    n -= 1\n",
    "    text_idx = np.random.randint(0, 3000)\n",
    "    cosine_angle = print_cosine_and_texts(text_idx, verbose=False)\n",
    "    if cosine_angle > 0.9 and cosine_angle < 0.95:\n",
    "        list_interesting_indices.append(text_idx)\n",
    "\n",
    "# check count of collected docs which match your criteria above\n",
    "len(list_interesting_indices)\n",
    "\n",
    "# set counter\n",
    "i = 0\n",
    "# if you highlight the two lines beneath, and hit 'shift + enter' in vs code\n",
    "# you can manually inspect the results\n",
    "print_cosine_and_texts(list_interesting_indices[i])\n",
    "i += 1\n",
    "\n",
    "\n",
    "# LOOKING AT GUIDANCE ON VIRUS CONTENT\n",
    "# this is just an illustration of finding content based on keywords and then looking for similar\n",
    "# content\n",
    "\n",
    "# search by date and content type:\n",
    "doc_types = ['press_release', 'news_story', 'speech', 'world_news_story', 'guidance']\n",
    "doc_types = ['guidance']\n",
    "doc_mask = text_df['document_type'].isin(doc_types)\n",
    "date_mask = text_df['first_published_at'].str[:4].fillna('2000').astype(int) >= 2020\n",
    "text_mask = text_df['doc_text'].str.lower().str.contains('virus')\n",
    "content_mask = date_mask & doc_mask & text_mask\n",
    "cols_keep = ['document_type', 'content_id', 'first_published_at', 'doc_text']\n",
    "subset_text_df = text_df.loc[content_mask, cols_keep].copy()\n",
    "subset_text_df.shape\n",
    "\n",
    "collected_guidance_ids = []\n",
    "for i in subset_text_df.index.to_list():\n",
    "    results = np.array(u.get_nns_by_item(i, 2, include_distances=True))\n",
    "    cosine_angle = get_cosine_from_similarity(results[1, 1])\n",
    "    if cosine_angle > 0.8:\n",
    "        collected_guidance_ids.append(i)\n",
    "\n",
    "print_cosine_and_texts(96897)\n",
    "i = 0\n",
    "print_cosine_and_texts(collected_guidance_ids[i])\n",
    "i += 1\n",
    "\n",
    "\n",
    "# search by vector\n",
    "# this illustrates how you can search for similar documents, based on any text\n",
    "# being convered into an embedding schema\n",
    "# requires the loading of the embedding model, which can take time to load, as its 1GB\n",
    "# flake complains about the import of libraries here, but it will add to the run time of the script\n",
    "# happy for this to be chopped and moved etc\n",
    "'''\n",
    "from universal_sentence_encoder import document_embedding\n",
    "\n",
    "test_text = ['Britain will roll out COVID-19 vaccinations when they are ready based on clinical advice about who \\\n",
    "    should be prioritised, health minister Matt Hancock said on Monday, after a report that half the population \\\n",
    "    could miss out on the jabs.',\n",
    "    'Asked about comments by the chair of the government vaccine taskforce to the Financial Times that vaccines \\\n",
    "    would probably only be available to less than half the UK population, Hancock said the taskforce had done \\\n",
    "    good work in procuring vaccines but that deployment was his department responsibility.',\n",
    "    '“We will take the advice on the deployment of the vaccine, based on clinical advice from the Joint \\\n",
    "    Committee on vaccinations and immunizations,” Hancock told parliament.']\n",
    "\n",
    "embedding = document_embedding(test_text)\n",
    "results = np.array(u.get_nns_by_vector(embedding, 4, include_distances=True))\n",
    "\n",
    "get_cosine_from_similarity(results[1,0])\n",
    "text_df['doc_text'][results[0,0]]\n",
    "'''\n"
   ]
  }
 ],
 "metadata": {
  "kernelspec": {
   "display_name": "",
   "language": "python",
   "name": ""
  },
  "language_info": {
   "codemirror_mode": {
    "name": "ipython",
    "version": 3
   },
   "file_extension": ".py",
   "mimetype": "text/x-python",
   "name": "python",
   "nbconvert_exporter": "python",
   "pygments_lexer": "ipython3",
   "version": "3.8.5"
  },
  "toc": {
   "base_numbering": 1,
   "nav_menu": {},
   "number_sections": true,
   "sideBar": true,
   "skip_h1_title": false,
   "title_cell": "Table of Contents",
   "title_sidebar": "Contents",
   "toc_cell": false,
   "toc_position": {},
   "toc_section_display": true,
   "toc_window_display": false
  }
 },
 "nbformat": 4,
 "nbformat_minor": 4
}
