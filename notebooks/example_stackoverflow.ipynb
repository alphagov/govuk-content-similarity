{
 "cells": [
  {
   "cell_type": "code",
   "execution_count": null,
   "metadata": {},
   "outputs": [],
   "source": [
    "from minisom import MiniSom\n",
    "import pandas as pd\n",
    "import numpy as np\n",
    "\n",
    "import matplotlib.pyplot as plt\n",
    "from matplotlib.patches import RegularPolygon\n",
    "from matplotlib import cm\n",
    "\n",
    "from bokeh.plotting import figure\n",
    "from bokeh.io import save, show, output_file, output_notebook\n",
    "\n",
    "output_notebook()"
   ]
  },
  {
   "cell_type": "code",
   "execution_count": null,
   "metadata": {},
   "outputs": [],
   "source": [
    "data = pd.read_csv('https://archive.ics.uci.edu/ml/machine-learning-databases/00236/seeds_dataset.txt', \n",
    "                   names=['area', 'perimeter', 'compactness', 'length_kernel', 'width_kernel',\n",
    "                          'asymmetry_coefficient', 'length_kernel_groove', 'target'], \n",
    "                   sep='\\t+')\n",
    "\n",
    "data = data[data.columns[:-1]]\n",
    "# data normalization\n",
    "data = (data - np.mean(data, axis=0)) / np.std(data, axis=0)\n",
    "data = data.values\n",
    "\n",
    "# Initialization and training\n",
    "som = MiniSom(15, 15, data.shape[1], sigma=1.5, learning_rate=.7, activation_distance='euclidean',\n",
    "              topology='hexagonal', neighborhood_function='gaussian', random_seed=10)\n",
    "\n",
    "som.train(data, 1000, verbose=True)"
   ]
  },
  {
   "cell_type": "code",
   "execution_count": null,
   "metadata": {},
   "outputs": [],
   "source": [
    "f = plt.figure(figsize=(10,10))\n",
    "ax = f.add_subplot(111)\n",
    "\n",
    "ax.set_aspect('equal')\n",
    "\n",
    "xx, yy = som.get_euclidean_coordinates()\n",
    "umatrix = som.distance_map()\n",
    "weights = som.get_weights()\n",
    "\n",
    "for i in range(weights.shape[0]):\n",
    "    for j in range(weights.shape[1]):\n",
    "        wy = yy[(i, j)] * 2 / np.sqrt(3) * 3 / 4\n",
    "        hex = RegularPolygon((xx[(i, j)], wy), \n",
    "                             numVertices=6, \n",
    "                             radius=.95 / np.sqrt(3),\n",
    "                             facecolor=cm.Blues(umatrix[i, j]), \n",
    "                             alpha=.4, \n",
    "                             edgecolor='gray')\n",
    "        ax.add_patch(hex)\n",
    "for x in data:\n",
    "    w = som.winner(x) \n",
    "    # place a marker on the winning position for the sample xx\n",
    "    wx, wy = som.convert_map_to_euclidean(w) \n",
    "    wy = wy * 2 / np.sqrt(3) * 3 / 4\n",
    "    plt.plot(wx, wy, \n",
    "             markerfacecolor='None',\n",
    "             markeredgecolor='black', \n",
    "             markersize=12, \n",
    "             markeredgewidth=2)\n",
    "\n",
    "plt.show()\n",
    "plt.savefig('outputs/example_stackoverflow_matplotlib.png')"
   ]
  },
  {
   "cell_type": "markdown",
   "metadata": {},
   "source": [
    "***\n",
    "\n",
    "## HexagonalTopology: bokeh"
   ]
  },
  {
   "cell_type": "code",
   "execution_count": null,
   "metadata": {},
   "outputs": [],
   "source": [
    "from bokeh.colors import RGB\n",
    "from bokeh.models import LogColorMapper\n",
    "# convert matplotlib colour palette to bokeh hex\n",
    "cm_blues = (255 * cm.Blues(range(256))).astype('int')\n",
    "palette_blues = [RGB(*tuple(rgb)).to_hex() for rgb in cm_blues]\n",
    "color_mapper = LogColorMapper(palette=palette_blues, low=1, high=1e7)"
   ]
  },
  {
   "cell_type": "code",
   "execution_count": null,
   "metadata": {},
   "outputs": [],
   "source": [
    "tile_centres_column = []\n",
    "tile_centres_row = []\n",
    "colours = []\n",
    "for i in range(weights.shape[0]):\n",
    "    for j in range(weights.shape[1]):\n",
    "        wy = yy[(i, j)] * 2 / np.sqrt(3) * 3 / 4\n",
    "        tile_centres_column.append(xx[(i, j)])\n",
    "        tile_centres_row.append(wy)\n",
    "        colours.append(cm.Blues(umatrix[i, j]))\n",
    "        #colours.append(palette_blues)\n",
    "        \n",
    "weight_x = []\n",
    "weight_y = []\n",
    "for x in data:\n",
    "    w = som.winner(x)\n",
    "    wx, wy = som.convert_map_to_euclidean(xy=w)\n",
    "    wy = wy * 2 / np.sqrt(3) * 3/4\n",
    "    weight_x.append(wx)\n",
    "    weight_y.append(wy)"
   ]
  },
  {
   "cell_type": "code",
   "execution_count": null,
   "metadata": {},
   "outputs": [],
   "source": [
    "plot = figure(plot_width=800, plot_height=800,\n",
    "              #x_range=(0, weights.shape[0]), y_range=(0, weights.shape[1]),\n",
    "              match_aspect=True) \n",
    "plot.hex_tile(q=tile_centres_column, r=tile_centres_row, \n",
    "              size=.95 / np.sqrt(3),\n",
    "              color=colours,\n",
    "              fill_alpha=.4,\n",
    "              line_color='black')\n",
    "plot.dot(x=weight_x, y=weight_y,\n",
    "         fill_color='black',\n",
    "         size=12)\n",
    "\n",
    "show(plot)\n",
    "output_file(\"outputs/example_stackoverflow_bokeh.html\")\n",
    "save(plot)"
   ]
  },
  {
   "cell_type": "code",
   "execution_count": null,
   "metadata": {},
   "outputs": [],
   "source": [
    "from bokeh.models import ColumnDataSource, Plot, Hex, Dot\n",
    "from bokeh.transform import linear_cmap\n",
    "from bokeh.io import curdoc\n",
    "\n",
    "plot = Plot(title=None, plot_width=800, plot_height=800, match_aspect=True)\n",
    "\n",
    "source_hex = ColumnDataSource(dict(\n",
    "    x=tile_centres_column,\n",
    "    y=tile_centres_row,\n",
    "    c=colours\n",
    "))\n",
    "\n",
    "source_dot = ColumnDataSource(dict(\n",
    "    wx=weight_x,\n",
    "    wy=weight_y\n",
    "))\n",
    "\n",
    "hex = Hex(y='x', x='y',\n",
    "          size=100*(.95 / np.sqrt(3)),\n",
    "          fill_color=linear_cmap('counts', 'Viridis256', 0, ))\n",
    "plot.add_glyph(source_or_glyph=source_hex, glyph=hex)\n",
    "\n",
    "dot = Dot(y='wx', x='wy', size=30, line_color='black')\n",
    "plot.add_glyph(source_or_glyph=source_dot, glyph=dot)\n",
    "\n",
    "curdoc().add_root(plot)\n",
    "show(plot)"
   ]
  },
  {
   "cell_type": "code",
   "execution_count": null,
   "metadata": {},
   "outputs": [],
   "source": []
  }
 ],
 "metadata": {
  "kernelspec": {
   "display_name": "",
   "language": "python",
   "name": ""
  },
  "language_info": {
   "codemirror_mode": {
    "name": "ipython",
    "version": 3
   },
   "file_extension": ".py",
   "mimetype": "text/x-python",
   "name": "python",
   "nbconvert_exporter": "python",
   "pygments_lexer": "ipython3",
   "version": "3.7.0"
  }
 },
 "nbformat": 4,
 "nbformat_minor": 4
}
